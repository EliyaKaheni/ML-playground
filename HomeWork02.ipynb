{
  "cells": [
    {
      "cell_type": "code",
      "execution_count": 25,
      "metadata": {
        "id": "uY8pveuQdRBN"
      },
      "outputs": [],
      "source": [
        "#importing libraries\n",
        "\n",
        "import tensorflow as tf\n",
        "from tensorflow.keras.datasets import cifar100\n",
        "from sklearn.metrics import accuracy_score\n",
        "from sklearn.model_selection import train_test_split\n",
        "from tensorflow import keras\n",
        "from keras import layers"
      ]
    },
    {
      "cell_type": "code",
      "execution_count": 26,
      "metadata": {
        "id": "mfSomZ6md2fx"
      },
      "outputs": [],
      "source": [
        "#loading the data\n",
        "\n",
        "(x_train, y_train), (x_test, y_test) = cifar100.load_data()"
      ]
    },
    {
      "cell_type": "code",
      "execution_count": 27,
      "metadata": {
        "id": "PCkmyl08cRnw"
      },
      "outputs": [],
      "source": [
        "# OneHotEncoding\n",
        "\n",
        "y_train = tf.one_hot(y_train,\n",
        "\t\t\t\t\tdepth=y_train.max() + 1,\n",
        "\t\t\t\t\tdtype=tf.float64)\n",
        "y_test = tf.one_hot(y_test,\n",
        "\t\t\t\tdepth=y_test.max() + 1,\n",
        "\t\t\t\tdtype=tf.float64)\n",
        "\n",
        "y_train = tf.squeeze(y_train)\n",
        "y_test = tf.squeeze(y_test)\n"
      ]
    },
    {
      "cell_type": "code",
      "execution_count": 28,
      "metadata": {
        "colab": {
          "base_uri": "https://localhost:8080/"
        },
        "id": "mR2sl-cffNWk",
        "outputId": "54677fb5-e433-4721-b388-8e1e1924c066"
      },
      "outputs": [
        {
          "output_type": "stream",
          "name": "stdout",
          "text": [
            "10000\n",
            "50000\n"
          ]
        }
      ],
      "source": [
        "print(len(x_test))\n",
        "print(len(x_train))"
      ]
    },
    {
      "cell_type": "code",
      "execution_count": 29,
      "metadata": {
        "id": "hSdV4HxxaF9Z"
      },
      "outputs": [],
      "source": [
        "model = tf.keras.models.Sequential([\n",
        "\tlayers.Conv2D(16, (3, 3), activation='relu', input_shape=(32, 32, 3), padding='same'),\n",
        "\tlayers.Conv2D(32, (3, 3), activation='relu', padding='same'),\n",
        "\tlayers.Conv2D(64, (3, 3), activation='relu', padding='same'),\n",
        "\tlayers.MaxPooling2D(2, 2), layers.Conv2D(128, (3, 3), activation='relu', padding='same'),\n",
        "\tlayers.Flatten(),\n",
        "\tlayers.Dense(256, activation='relu'),\n",
        "\tlayers.BatchNormalization(),\n",
        "\tlayers.Dense(256, activation='relu'),\n",
        "\tlayers.Dropout(0.3),\n",
        "\tlayers.BatchNormalization(),\n",
        "\tlayers.Dense(100, activation='softmax')\n",
        "])\n",
        "\n",
        "model.compile(\n",
        "\tloss=tf.keras.losses.CategoricalCrossentropy(from_logits=True),\n",
        "\toptimizer='adam',\n",
        "\tmetrics=['AUC', 'accuracy']\n",
        ")\n"
      ]
    },
    {
      "cell_type": "code",
      "execution_count": 30,
      "metadata": {
        "colab": {
          "base_uri": "https://localhost:8080/"
        },
        "id": "1KFA0VNwbnpj",
        "outputId": "8d653456-1a88-4f0e-8d3a-18c8c46e1393"
      },
      "outputs": [
        {
          "output_type": "stream",
          "name": "stdout",
          "text": [
            "Model: \"sequential_3\"\n",
            "_________________________________________________________________\n",
            " Layer (type)                Output Shape              Param #   \n",
            "=================================================================\n",
            " conv2d_12 (Conv2D)          (None, 32, 32, 16)        448       \n",
            "                                                                 \n",
            " conv2d_13 (Conv2D)          (None, 32, 32, 32)        4640      \n",
            "                                                                 \n",
            " conv2d_14 (Conv2D)          (None, 32, 32, 64)        18496     \n",
            "                                                                 \n",
            " max_pooling2d_3 (MaxPooling  (None, 16, 16, 64)       0         \n",
            " 2D)                                                             \n",
            "                                                                 \n",
            " conv2d_15 (Conv2D)          (None, 16, 16, 128)       73856     \n",
            "                                                                 \n",
            " flatten_3 (Flatten)         (None, 32768)             0         \n",
            "                                                                 \n",
            " dense_9 (Dense)             (None, 256)               8388864   \n",
            "                                                                 \n",
            " batch_normalization_6 (Batc  (None, 256)              1024      \n",
            " hNormalization)                                                 \n",
            "                                                                 \n",
            " dense_10 (Dense)            (None, 256)               65792     \n",
            "                                                                 \n",
            " dropout_3 (Dropout)         (None, 256)               0         \n",
            "                                                                 \n",
            " batch_normalization_7 (Batc  (None, 256)              1024      \n",
            " hNormalization)                                                 \n",
            "                                                                 \n",
            " dense_11 (Dense)            (None, 100)               25700     \n",
            "                                                                 \n",
            "=================================================================\n",
            "Total params: 8,579,844\n",
            "Trainable params: 8,578,820\n",
            "Non-trainable params: 1,024\n",
            "_________________________________________________________________\n"
          ]
        }
      ],
      "source": [
        "model.summary()"
      ]
    },
    {
      "cell_type": "code",
      "execution_count": 31,
      "metadata": {
        "colab": {
          "base_uri": "https://localhost:8080/"
        },
        "id": "_Mxyy-hwbt6k",
        "outputId": "107b3872-ed60-4d01-f8b3-ffc970c7141e"
      },
      "outputs": [
        {
          "output_type": "stream",
          "name": "stdout",
          "text": [
            "Epoch 1/15\n",
            "157/157 [==============================] - 5s 13ms/step - loss: 4.6336 - auc: 0.6334 - accuracy: 0.0359\n",
            "Epoch 2/15\n",
            "157/157 [==============================] - 2s 12ms/step - loss: 4.2285 - auc: 0.7278 - accuracy: 0.0691\n",
            "Epoch 3/15\n",
            "157/157 [==============================] - 2s 11ms/step - loss: 3.9165 - auc: 0.7882 - accuracy: 0.1058\n",
            "Epoch 4/15\n",
            "157/157 [==============================] - 2s 11ms/step - loss: 3.6501 - auc: 0.8282 - accuracy: 0.1487\n",
            "Epoch 5/15\n",
            "157/157 [==============================] - 2s 11ms/step - loss: 3.3993 - auc: 0.8591 - accuracy: 0.1887\n",
            "Epoch 6/15\n",
            "157/157 [==============================] - 2s 11ms/step - loss: 3.1855 - auc: 0.8817 - accuracy: 0.2266\n",
            "Epoch 7/15\n",
            "157/157 [==============================] - 2s 11ms/step - loss: 2.8922 - auc: 0.9069 - accuracy: 0.2884\n",
            "Epoch 8/15\n",
            "157/157 [==============================] - 2s 13ms/step - loss: 2.5627 - auc: 0.9316 - accuracy: 0.3634\n",
            "Epoch 9/15\n",
            "157/157 [==============================] - 2s 11ms/step - loss: 2.1634 - auc: 0.9548 - accuracy: 0.4494\n",
            "Epoch 10/15\n",
            "157/157 [==============================] - 2s 11ms/step - loss: 2.2475 - auc: 0.9356 - accuracy: 0.4669\n",
            "Epoch 11/15\n",
            "157/157 [==============================] - 2s 11ms/step - loss: 2.0170 - auc: 0.9578 - accuracy: 0.4814\n",
            "Epoch 12/15\n",
            "157/157 [==============================] - 2s 11ms/step - loss: 1.3002 - auc: 0.9849 - accuracy: 0.6705\n",
            "Epoch 13/15\n",
            "157/157 [==============================] - 2s 11ms/step - loss: 0.7550 - auc: 0.9956 - accuracy: 0.8233\n",
            "Epoch 14/15\n",
            "157/157 [==============================] - 2s 11ms/step - loss: 0.4327 - auc: 0.9989 - accuracy: 0.9110\n",
            "Epoch 15/15\n",
            "157/157 [==============================] - 2s 12ms/step - loss: 0.2473 - auc: 0.9997 - accuracy: 0.9583\n"
          ]
        }
      ],
      "source": [
        "hist = model.fit(x_test, y_test, batch_size=64, epochs=15, verbose=1)"
      ]
    }
  ],
  "metadata": {
    "accelerator": "GPU",
    "colab": {
      "gpuType": "T4",
      "provenance": []
    },
    "kernelspec": {
      "display_name": "Python 3",
      "name": "python3"
    },
    "language_info": {
      "name": "python"
    }
  },
  "nbformat": 4,
  "nbformat_minor": 0
}