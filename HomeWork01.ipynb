{
  "nbformat": 4,
  "nbformat_minor": 0,
  "metadata": {
    "colab": {
      "provenance": [],
      "gpuType": "T4",
      "include_colab_link": true
    },
    "kernelspec": {
      "name": "python3",
      "display_name": "Python 3"
    },
    "language_info": {
      "name": "python"
    },
    "accelerator": "GPU",
    "gpuClass": "standard"
  },
  "cells": [
    {
      "cell_type": "markdown",
      "metadata": {
        "id": "view-in-github",
        "colab_type": "text"
      },
      "source": [
        "<a href=\"https://colab.research.google.com/github/EliyaKaheni/ML-playground/blob/main/HomeWork01.ipynb\" target=\"_parent\"><img src=\"https://colab.research.google.com/assets/colab-badge.svg\" alt=\"Open In Colab\"/></a>"
      ]
    },
    {
      "cell_type": "code",
      "execution_count": null,
      "metadata": {
        "id": "fcrsmfTV231a"
      },
      "outputs": [],
      "source": [
        "import pandas as pd\n",
        "import numpy as np\n",
        "import matplotlib.pyplot as plt"
      ]
    },
    {
      "cell_type": "markdown",
      "source": [
        "# Load Data"
      ],
      "metadata": {
        "id": "ya1B_ceY3EdD"
      }
    },
    {
      "cell_type": "code",
      "source": [
        "from tensorflow.keras.datasets import fashion_mnist\n",
        "(x_train, y_train), (x_test, y_test) = fashion_mnist.load_data()\n",
        "assert x_train.shape == (60000, 28, 28)\n",
        "assert x_test.shape == (10000, 28, 28)\n",
        "assert y_train.shape == (60000,)\n",
        "assert y_test.shape == (10000,)"
      ],
      "metadata": {
        "colab": {
          "base_uri": "https://localhost:8080/"
        },
        "id": "3im7ZuDq3DqH",
        "outputId": "9407c9fa-5e98-4616-cbce-e5c9faebe33b"
      },
      "execution_count": null,
      "outputs": [
        {
          "output_type": "stream",
          "name": "stdout",
          "text": [
            "Downloading data from https://storage.googleapis.com/tensorflow/tf-keras-datasets/train-labels-idx1-ubyte.gz\n",
            "29515/29515 [==============================] - 0s 0us/step\n",
            "Downloading data from https://storage.googleapis.com/tensorflow/tf-keras-datasets/train-images-idx3-ubyte.gz\n",
            "26421880/26421880 [==============================] - 0s 0us/step\n",
            "Downloading data from https://storage.googleapis.com/tensorflow/tf-keras-datasets/t10k-labels-idx1-ubyte.gz\n",
            "5148/5148 [==============================] - 0s 0us/step\n",
            "Downloading data from https://storage.googleapis.com/tensorflow/tf-keras-datasets/t10k-images-idx3-ubyte.gz\n",
            "4422102/4422102 [==============================] - 0s 0us/step\n"
          ]
        }
      ]
    },
    {
      "cell_type": "code",
      "source": [
        "plt.imshow(x_train[np.random.randint(60000)], cmap='gray')"
      ],
      "metadata": {
        "colab": {
          "base_uri": "https://localhost:8080/",
          "height": 447
        },
        "id": "d3D1J4Uy3GPZ",
        "outputId": "0a8ddf20-0314-4ecf-e818-bce183e1df82"
      },
      "execution_count": null,
      "outputs": [
        {
          "output_type": "execute_result",
          "data": {
            "text/plain": [
              "<matplotlib.image.AxesImage at 0x7efbb14a0250>"
            ]
          },
          "metadata": {},
          "execution_count": 4
        },
        {
          "output_type": "display_data",
          "data": {
            "text/plain": [
              "<Figure size 640x480 with 1 Axes>"
            ],
            "image/png": "[encoded data removed]"
          },
          "metadata": {}
        }
      ]
    },
    {
      "cell_type": "markdown",
      "source": [
        "# Data Preprocessing\n",
        "\n",
        "مقادیر دیتا را برای آموزش شبکه عصبی آماده کنید\n",
        " راهنمایی: عکس ها را به شکل آرایه دربیاورید و همجنین مقادیر آن ها را اسکیل کنید"
      ],
      "metadata": {
        "id": "dbJZspbu3Z7V"
      }
    },
    {
      "cell_type": "code",
      "source": [
        "x_train = x_train.reshape(60000, 28*28)\n",
        "x_test = x_test.reshape(10000, 28*28)"
      ],
      "metadata": {
        "id": "zPBFffGq3Wgy"
      },
      "execution_count": null,
      "outputs": []
    },
    {
      "cell_type": "markdown",
      "source": [
        "مقدار های خروجی را بصورت \n",
        "\n",
        "one hot encoding تبدیل کنید"
      ],
      "metadata": {
        "id": "3FkeabB44cMX"
      }
    },
    {
      "cell_type": "code",
      "source": [
        "y_train = pd.get_dummies(y_train)\n",
        "y_test = pd.get_dummies(y_test)\n"
      ],
      "metadata": {
        "id": "e6aLnu8e4boG"
      },
      "execution_count": null,
      "outputs": []
    },
    {
      "cell_type": "code",
      "source": [
        "y_test[1:10]"
      ],
      "metadata": {
        "colab": {
          "base_uri": "https://localhost:8080/",
          "height": 332
        },
        "id": "dQFVp1NHzHdy",
        "outputId": "ccbf5c82-a396-4f8e-bf9f-3d9dcbcb597d"
      },
      "execution_count": null,
      "outputs": [
        {
          "output_type": "execute_result",
          "data": {
            "text/plain": [
              "   0  1  2  3  4  5  6  7  8  9\n",
              "1  0  0  1  0  0  0  0  0  0  0\n",
              "2  0  1  0  0  0  0  0  0  0  0\n",
              "3  0  1  0  0  0  0  0  0  0  0\n",
              "4  0  0  0  0  0  0  1  0  0  0\n",
              "5  0  1  0  0  0  0  0  0  0  0\n",
              "6  0  0  0  0  1  0  0  0  0  0\n",
              "7  0  0  0  0  0  0  1  0  0  0\n",
              "8  0  0  0  0  0  1  0  0  0  0\n",
              "9  0  0  0  0  0  0  0  1  0  0"
            ],
            "text/html": [
              "\n",
              "  <div id=\"df-7a990505-cb6c-478e-8db3-c1637126f23f\">\n",
              "    <div class=\"colab-df-container\">\n",
              "      <div>\n",
              "<style scoped>\n",
              "    .dataframe tbody tr th:only-of-type {\n",
              "        vertical-align: middle;\n",
              "    }\n",
              "\n",
              "    .dataframe tbody tr th {\n",
              "        vertical-align: top;\n",
              "    }\n",
              "\n",
              "    .dataframe thead th {\n",
              "        text-align: right;\n",
              "    }\n",
              "</style>\n",
              "<table border=\"1\" class=\"dataframe\">\n",
              "  <thead>\n",
              "    <tr style=\"text-align: right;\">\n",
              "      <th></th>\n",
              "      <th>0</th>\n",
              "      <th>1</th>\n",
              "      <th>2</th>\n",
              "      <th>3</th>\n",
              "      <th>4</th>\n",
              "      <th>5</th>\n",
              "      <th>6</th>\n",
              "      <th>7</th>\n",
              "      <th>8</th>\n",
              "      <th>9</th>\n",
              "    </tr>\n",
              "  </thead>\n",
              "  <tbody>\n",
              "    <tr>\n",
              "      <th>1</th>\n",
              "      <td>0</td>\n",
              "      <td>0</td>\n",
              "      <td>1</td>\n",
              "      <td>0</td>\n",
              "      <td>0</td>\n",
              "      <td>0</td>\n",
              "      <td>0</td>\n",
              "      <td>0</td>\n",
              "      <td>0</td>\n",
              "      <td>0</td>\n",
              "    </tr>\n",
              "    <tr>\n",
              "      <th>2</th>\n",
              "      <td>0</td>\n",
              "      <td>1</td>\n",
              "      <td>0</td>\n",
              "      <td>0</td>\n",
              "      <td>0</td>\n",
              "      <td>0</td>\n",
              "      <td>0</td>\n",
              "      <td>0</td>\n",
              "      <td>0</td>\n",
              "      <td>0</td>\n",
              "    </tr>\n",
              "    <tr>\n",
              "      <th>3</th>\n",
              "      <td>0</td>\n",
              "      <td>1</td>\n",
              "      <td>0</td>\n",
              "      <td>0</td>\n",
              "      <td>0</td>\n",
              "      <td>0</td>\n",
              "      <td>0</td>\n",
              "      <td>0</td>\n",
              "      <td>0</td>\n",
              "      <td>0</td>\n",
              "    </tr>\n",
              "    <tr>\n",
              "      <th>4</th>\n",
              "      <td>0</td>\n",
              "      <td>0</td>\n",
              "      <td>0</td>\n",
              "      <td>0</td>\n",
              "      <td>0</td>\n",
              "      <td>0</td>\n",
              "      <td>1</td>\n",
              "      <td>0</td>\n",
              "      <td>0</td>\n",
              "      <td>0</td>\n",
              "    </tr>\n",
              "    <tr>\n",
              "      <th>5</th>\n",
              "      <td>0</td>\n",
              "      <td>1</td>\n",
              "      <td>0</td>\n",
              "      <td>0</td>\n",
              "      <td>0</td>\n",
              "      <td>0</td>\n",
              "      <td>0</td>\n",
              "      <td>0</td>\n",
              "      <td>0</td>\n",
              "      <td>0</td>\n",
              "    </tr>\n",
              "    <tr>\n",
              "      <th>6</th>\n",
              "      <td>0</td>\n",
              "      <td>0</td>\n",
              "      <td>0</td>\n",
              "      <td>0</td>\n",
              "      <td>1</td>\n",
              "      <td>0</td>\n",
              "      <td>0</td>\n",
              "      <td>0</td>\n",
              "      <td>0</td>\n",
              "      <td>0</td>\n",
              "    </tr>\n",
              "    <tr>\n",
              "      <th>7</th>\n",
              "      <td>0</td>\n",
              "      <td>0</td>\n",
              "      <td>0</td>\n",
              "      <td>0</td>\n",
              "      <td>0</td>\n",
              "      <td>0</td>\n",
              "      <td>1</td>\n",
              "      <td>0</td>\n",
              "      <td>0</td>\n",
              "      <td>0</td>\n",
              "    </tr>\n",
              "    <tr>\n",
              "      <th>8</th>\n",
              "      <td>0</td>\n",
              "      <td>0</td>\n",
              "      <td>0</td>\n",
              "      <td>0</td>\n",
              "      <td>0</td>\n",
              "      <td>1</td>\n",
              "      <td>0</td>\n",
              "      <td>0</td>\n",
              "      <td>0</td>\n",
              "      <td>0</td>\n",
              "    </tr>\n",
              "    <tr>\n",
              "      <th>9</th>\n",
              "      <td>0</td>\n",
              "      <td>0</td>\n",
              "      <td>0</td>\n",
              "      <td>0</td>\n",
              "      <td>0</td>\n",
              "      <td>0</td>\n",
              "      <td>0</td>\n",
              "      <td>1</td>\n",
              "      <td>0</td>\n",
              "      <td>0</td>\n",
              "    </tr>\n",
              "  </tbody>\n",
              "</table>\n",
              "</div>\n",
              "      <button class=\"colab-df-convert\" onclick=\"convertToInteractive('df-7a990505-cb6c-478e-8db3-c1637126f23f')\"\n",
              "              title=\"Convert this dataframe to an interactive table.\"\n",
              "              style=\"display:none;\">\n",
              "        \n",
              "  <svg xmlns=\"http://www.w3.org/2000/svg\" height=\"24px\"viewBox=\"0 0 24 24\"\n",
              "       width=\"24px\">\n",
              "    <path d=\"M0 0h24v24H0V0z\" fill=\"none\"/>\n",
              "    <path d=\"M18.56 5.44l.94 2.06.94-2.06 2.06-.94-2.06-.94-.94-2.06-.94 2.06-2.06.94zm-11 1L8.5 8.5l.94-2.06 2.06-.94-2.06-.94L8.5 2.5l-.94 2.06-2.06.94zm10 10l.94 2.06.94-2.06 2.06-.94-2.06-.94-.94-2.06-.94 2.06-2.06.94z\"/><path d=\"M17.41 7.96l-1.37-1.37c-.4-.4-.92-.59-1.43-.59-.52 0-1.04.2-1.43.59L10.3 9.45l-7.72 7.72c-.78.78-.78 2.05 0 2.83L4 21.41c.39.39.9.59 1.41.59.51 0 1.02-.2 1.41-.59l7.78-7.78 2.81-2.81c.8-.78.8-2.07 0-2.86zM5.41 20L4 18.59l7.72-7.72 1.47 1.35L5.41 20z\"/>\n",
              "  </svg>\n",
              "      </button>\n",
              "      \n",
              "  <style>\n",
              "    .colab-df-container {\n",
              "      display:flex;\n",
              "      flex-wrap:wrap;\n",
              "      gap: 12px;\n",
              "    }\n",
              "\n",
              "    .colab-df-convert {\n",
              "      background-color: #E8F0FE;\n",
              "      border: none;\n",
              "      border-radius: 50%;\n",
              "      cursor: pointer;\n",
              "      display: none;\n",
              "      fill: #1967D2;\n",
              "      height: 32px;\n",
              "      padding: 0 0 0 0;\n",
              "      width: 32px;\n",
              "    }\n",
              "\n",
              "    .colab-df-convert:hover {\n",
              "      background-color: #E2EBFA;\n",
              "      box-shadow: 0px 1px 2px rgba(60, 64, 67, 0.3), 0px 1px 3px 1px rgba(60, 64, 67, 0.15);\n",
              "      fill: #174EA6;\n",
              "    }\n",
              "\n",
              "    [theme=dark] .colab-df-convert {\n",
              "      background-color: #3B4455;\n",
              "      fill: #D2E3FC;\n",
              "    }\n",
              "\n",
              "    [theme=dark] .colab-df-convert:hover {\n",
              "      background-color: #434B5C;\n",
              "      box-shadow: 0px 1px 3px 1px rgba(0, 0, 0, 0.15);\n",
              "      filter: drop-shadow(0px 1px 2px rgba(0, 0, 0, 0.3));\n",
              "      fill: #FFFFFF;\n",
              "    }\n",
              "  </style>\n",
              "\n",
              "      <script>\n",
              "        const buttonEl =\n",
              "          document.querySelector('#df-7a990505-cb6c-478e-8db3-c1637126f23f button.colab-df-convert');\n",
              "        buttonEl.style.display =\n",
              "          google.colab.kernel.accessAllowed ? 'block' : 'none';\n",
              "\n",
              "        async function convertToInteractive(key) {\n",
              "          const element = document.querySelector('#df-7a990505-cb6c-478e-8db3-c1637126f23f');\n",
              "          const dataTable =\n",
              "            await google.colab.kernel.invokeFunction('convertToInteractive',\n",
              "                                                     [key], {});\n",
              "          if (!dataTable) return;\n",
              "\n",
              "          const docLinkHtml = 'Like what you see? Visit the ' +\n",
              "            '<a target=\"_blank\" href=https://colab.research.google.com/notebooks/data_table.ipynb>data table notebook</a>'\n",
              "            + ' to learn more about interactive tables.';\n",
              "          element.innerHTML = '';\n",
              "          dataTable['output_type'] = 'display_data';\n",
              "          await google.colab.output.renderOutput(dataTable, element);\n",
              "          const docLink = document.createElement('div');\n",
              "          docLink.innerHTML = docLinkHtml;\n",
              "          element.appendChild(docLink);\n",
              "        }\n",
              "      </script>\n",
              "    </div>\n",
              "  </div>\n",
              "  "
            ]
          },
          "metadata": {},
          "execution_count": 7
        }
      ]
    },
    {
      "cell_type": "markdown",
      "source": [
        "# Model\n",
        "\n",
        "یک مدل بر پایه شبکه عصبی طراحی کنید که دسته بندی را انجام دهد\n",
        "\n",
        "\n",
        "هدف از تمرین حداقل درصد 80 میباشد\n",
        "\n",
        "\n",
        "تعداد لایه ها و نوع آن ها به علاوه تعداد ایپاک ها و بچ سایز به انتخاب شماست و دلیل بیاورید که چرا این اندازه ها را انتخاب کرده اید"
      ],
      "metadata": {
        "id": "TrDRzXAJ3kw1"
      }
    },
    {
      "cell_type": "code",
      "source": [
        "from tensorflow.keras.models import Sequential\n",
        "from tensorflow.keras.layers import Dense\n",
        "model = Sequential()\n",
        "model.add(Dense(28 * 28, activation = \"relu\"))\n",
        "model.add(Dense(14 * 14, activation = \"relu\"))\n",
        "model.add(Dense(256, activation = \"relu\"))\n",
        "model.add(Dense(10, activation = \"softmax\"))\n",
        "model.compile(optimizer='Adam', loss='categorical_crossentropy', metrics=['accuracy'])"
      ],
      "metadata": {
        "id": "3t8aABjH3jNw"
      },
      "execution_count": null,
      "outputs": []
    },
    {
      "cell_type": "code",
      "source": [
        "model.build((None, 28*28))\n",
        "model.summary()"
      ],
      "metadata": {
        "colab": {
          "base_uri": "https://localhost:8080/"
        },
        "id": "RkjOxSTh1KJT",
        "outputId": "2be9a93e-7b22-495b-adcf-276ad5d1bcff"
      },
      "execution_count": null,
      "outputs": [
        {
          "output_type": "stream",
          "name": "stdout",
          "text": [
            "Model: \"sequential_1\"\n",
            "_________________________________________________________________\n",
            " Layer (type)                Output Shape              Param #   \n",
            "=================================================================\n",
            " dense_3 (Dense)             (None, 784)               615440    \n",
            "                                                                 \n",
            " dense_4 (Dense)             (None, 196)               153860    \n",
            "                                                                 \n",
            " dense_5 (Dense)             (None, 256)               50432     \n",
            "                                                                 \n",
            " dense_6 (Dense)             (None, 10)                2570      \n",
            "                                                                 \n",
            "=================================================================\n",
            "Total params: 822,302\n",
            "Trainable params: 822,302\n",
            "Non-trainable params: 0\n",
            "_________________________________________________________________\n"
          ]
        }
      ]
    },
    {
      "cell_type": "code",
      "source": [
        "history = model.fit(x_train, y_train, batch_size = 1024, epochs=100, validation_data = (x_test, y_test))"
      ],
      "metadata": {
        "id": "TzbRzskQ4W6X",
        "colab": {
          "base_uri": "https://localhost:8080/"
        },
        "outputId": "64a44d04-c38e-4937-e3d1-763ec63c2d66"
      },
      "execution_count": null,
      "outputs": [
        {
          "output_type": "stream",
          "name": "stdout",
          "text": [
            "Epoch 1/100\n",
            "59/59 [==============================] - 2s 9ms/step - loss: 15.4384 - accuracy: 0.6629 - val_loss: 1.5313 - val_accuracy: 0.7739\n",
            "Epoch 2/100\n",
            "59/59 [==============================] - 0s 6ms/step - loss: 1.1375 - accuracy: 0.7984 - val_loss: 1.1124 - val_accuracy: 0.7927\n",
            "Epoch 3/100\n",
            "59/59 [==============================] - 0s 6ms/step - loss: 0.8653 - accuracy: 0.8162 - val_loss: 0.8947 - val_accuracy: 0.8009\n",
            "Epoch 4/100\n",
            "59/59 [==============================] - 0s 6ms/step - loss: 0.6507 - accuracy: 0.8345 - val_loss: 0.6918 - val_accuracy: 0.8317\n",
            "Epoch 5/100\n",
            "59/59 [==============================] - 0s 6ms/step - loss: 0.5512 - accuracy: 0.8473 - val_loss: 0.6739 - val_accuracy: 0.8262\n",
            "Epoch 6/100\n",
            "59/59 [==============================] - 0s 6ms/step - loss: 0.4908 - accuracy: 0.8562 - val_loss: 0.5827 - val_accuracy: 0.8369\n",
            "Epoch 7/100\n",
            "59/59 [==============================] - 0s 5ms/step - loss: 0.4071 - accuracy: 0.8698 - val_loss: 0.5472 - val_accuracy: 0.8456\n",
            "Epoch 8/100\n",
            "59/59 [==============================] - 0s 5ms/step - loss: 0.3808 - accuracy: 0.8753 - val_loss: 0.5168 - val_accuracy: 0.8452\n",
            "Epoch 9/100\n",
            "59/59 [==============================] - 0s 5ms/step - loss: 0.3452 - accuracy: 0.8827 - val_loss: 0.5012 - val_accuracy: 0.8550\n",
            "Epoch 10/100\n",
            "59/59 [==============================] - 0s 5ms/step - loss: 0.3474 - accuracy: 0.8802 - val_loss: 0.5240 - val_accuracy: 0.8544\n",
            "Epoch 11/100\n",
            "59/59 [==============================] - 0s 5ms/step - loss: 0.3307 - accuracy: 0.8866 - val_loss: 0.4748 - val_accuracy: 0.8552\n",
            "Epoch 12/100\n",
            "59/59 [==============================] - 0s 5ms/step - loss: 0.2938 - accuracy: 0.8953 - val_loss: 0.5079 - val_accuracy: 0.8534\n",
            "Epoch 13/100\n",
            "59/59 [==============================] - 0s 6ms/step - loss: 0.2959 - accuracy: 0.8958 - val_loss: 0.4684 - val_accuracy: 0.8597\n",
            "Epoch 14/100\n",
            "59/59 [==============================] - 0s 5ms/step - loss: 0.2897 - accuracy: 0.8964 - val_loss: 0.5131 - val_accuracy: 0.8559\n",
            "Epoch 15/100\n",
            "59/59 [==============================] - 0s 6ms/step - loss: 0.2725 - accuracy: 0.9027 - val_loss: 0.4489 - val_accuracy: 0.8647\n",
            "Epoch 16/100\n",
            "59/59 [==============================] - 0s 5ms/step - loss: 0.2579 - accuracy: 0.9083 - val_loss: 0.5268 - val_accuracy: 0.8489\n",
            "Epoch 17/100\n",
            "59/59 [==============================] - 0s 6ms/step - loss: 0.2416 - accuracy: 0.9122 - val_loss: 0.4801 - val_accuracy: 0.8584\n",
            "Epoch 18/100\n",
            "59/59 [==============================] - 0s 6ms/step - loss: 0.2470 - accuracy: 0.9098 - val_loss: 0.4752 - val_accuracy: 0.8626\n",
            "Epoch 19/100\n",
            "59/59 [==============================] - 0s 7ms/step - loss: 0.2370 - accuracy: 0.9137 - val_loss: 0.4663 - val_accuracy: 0.8614\n",
            "Epoch 20/100\n",
            "59/59 [==============================] - 0s 7ms/step - loss: 0.2373 - accuracy: 0.9129 - val_loss: 0.4491 - val_accuracy: 0.8668\n",
            "Epoch 21/100\n",
            "59/59 [==============================] - 0s 7ms/step - loss: 0.2165 - accuracy: 0.9204 - val_loss: 0.4530 - val_accuracy: 0.8709\n",
            "Epoch 22/100\n",
            "59/59 [==============================] - 0s 7ms/step - loss: 0.2117 - accuracy: 0.9229 - val_loss: 0.4388 - val_accuracy: 0.8745\n",
            "Epoch 23/100\n",
            "59/59 [==============================] - 0s 8ms/step - loss: 0.1969 - accuracy: 0.9266 - val_loss: 0.4463 - val_accuracy: 0.8739\n",
            "Epoch 24/100\n",
            "59/59 [==============================] - 0s 6ms/step - loss: 0.2031 - accuracy: 0.9244 - val_loss: 0.4736 - val_accuracy: 0.8660\n",
            "Epoch 25/100\n",
            "59/59 [==============================] - 0s 5ms/step - loss: 0.1974 - accuracy: 0.9275 - val_loss: 0.4446 - val_accuracy: 0.8740\n",
            "Epoch 26/100\n",
            "59/59 [==============================] - 0s 6ms/step - loss: 0.1959 - accuracy: 0.9280 - val_loss: 0.4618 - val_accuracy: 0.8655\n",
            "Epoch 27/100\n",
            "59/59 [==============================] - 0s 6ms/step - loss: 0.1957 - accuracy: 0.9274 - val_loss: 0.4539 - val_accuracy: 0.8722\n",
            "Epoch 28/100\n",
            "59/59 [==============================] - 0s 5ms/step - loss: 0.1760 - accuracy: 0.9354 - val_loss: 0.4321 - val_accuracy: 0.8788\n",
            "Epoch 29/100\n",
            "59/59 [==============================] - 0s 5ms/step - loss: 0.1760 - accuracy: 0.9349 - val_loss: 0.4362 - val_accuracy: 0.8743\n",
            "Epoch 30/100\n",
            "59/59 [==============================] - 0s 6ms/step - loss: 0.1852 - accuracy: 0.9340 - val_loss: 0.4873 - val_accuracy: 0.8628\n",
            "Epoch 31/100\n",
            "59/59 [==============================] - 0s 6ms/step - loss: 0.1831 - accuracy: 0.9324 - val_loss: 0.4367 - val_accuracy: 0.8769\n",
            "Epoch 32/100\n",
            "59/59 [==============================] - 0s 5ms/step - loss: 0.1686 - accuracy: 0.9379 - val_loss: 0.4461 - val_accuracy: 0.8724\n",
            "Epoch 33/100\n",
            "59/59 [==============================] - 0s 5ms/step - loss: 0.1611 - accuracy: 0.9412 - val_loss: 0.4620 - val_accuracy: 0.8704\n",
            "Epoch 34/100\n",
            "59/59 [==============================] - 0s 5ms/step - loss: 0.1692 - accuracy: 0.9375 - val_loss: 0.4514 - val_accuracy: 0.8772\n",
            "Epoch 35/100\n",
            "59/59 [==============================] - 0s 6ms/step - loss: 0.1621 - accuracy: 0.9405 - val_loss: 0.4650 - val_accuracy: 0.8725\n",
            "Epoch 36/100\n",
            "59/59 [==============================] - 0s 6ms/step - loss: 0.1593 - accuracy: 0.9406 - val_loss: 0.4582 - val_accuracy: 0.8775\n",
            "Epoch 37/100\n",
            "59/59 [==============================] - 0s 5ms/step - loss: 0.1564 - accuracy: 0.9421 - val_loss: 0.4545 - val_accuracy: 0.8760\n",
            "Epoch 38/100\n",
            "59/59 [==============================] - 0s 5ms/step - loss: 0.1468 - accuracy: 0.9453 - val_loss: 0.4556 - val_accuracy: 0.8796\n",
            "Epoch 39/100\n",
            "59/59 [==============================] - 0s 6ms/step - loss: 0.1511 - accuracy: 0.9441 - val_loss: 0.4937 - val_accuracy: 0.8726\n",
            "Epoch 40/100\n",
            "59/59 [==============================] - 0s 5ms/step - loss: 0.1451 - accuracy: 0.9466 - val_loss: 0.4580 - val_accuracy: 0.8786\n",
            "Epoch 41/100\n",
            "59/59 [==============================] - 0s 5ms/step - loss: 0.1537 - accuracy: 0.9432 - val_loss: 0.4640 - val_accuracy: 0.8819\n",
            "Epoch 42/100\n",
            "59/59 [==============================] - 0s 6ms/step - loss: 0.1436 - accuracy: 0.9482 - val_loss: 0.5070 - val_accuracy: 0.8693\n",
            "Epoch 43/100\n",
            "59/59 [==============================] - 0s 5ms/step - loss: 0.1453 - accuracy: 0.9461 - val_loss: 0.5020 - val_accuracy: 0.8759\n",
            "Epoch 44/100\n",
            "59/59 [==============================] - 0s 6ms/step - loss: 0.1484 - accuracy: 0.9452 - val_loss: 0.4735 - val_accuracy: 0.8792\n",
            "Epoch 45/100\n",
            "59/59 [==============================] - 0s 5ms/step - loss: 0.1533 - accuracy: 0.9435 - val_loss: 0.4944 - val_accuracy: 0.8725\n",
            "Epoch 46/100\n",
            "59/59 [==============================] - 0s 6ms/step - loss: 0.1477 - accuracy: 0.9463 - val_loss: 0.4989 - val_accuracy: 0.8685\n",
            "Epoch 47/100\n",
            "59/59 [==============================] - 0s 5ms/step - loss: 0.1490 - accuracy: 0.9453 - val_loss: 0.4965 - val_accuracy: 0.8765\n",
            "Epoch 48/100\n",
            "59/59 [==============================] - 0s 5ms/step - loss: 0.1463 - accuracy: 0.9467 - val_loss: 0.4945 - val_accuracy: 0.8716\n",
            "Epoch 49/100\n",
            "59/59 [==============================] - 0s 6ms/step - loss: 0.1399 - accuracy: 0.9492 - val_loss: 0.5355 - val_accuracy: 0.8748\n",
            "Epoch 50/100\n",
            "59/59 [==============================] - 0s 5ms/step - loss: 0.1378 - accuracy: 0.9491 - val_loss: 0.4926 - val_accuracy: 0.8789\n",
            "Epoch 51/100\n",
            "59/59 [==============================] - 0s 5ms/step - loss: 0.1230 - accuracy: 0.9540 - val_loss: 0.5075 - val_accuracy: 0.8830\n",
            "Epoch 52/100\n",
            "59/59 [==============================] - 0s 5ms/step - loss: 0.1316 - accuracy: 0.9514 - val_loss: 0.5102 - val_accuracy: 0.8781\n",
            "Epoch 53/100\n",
            "59/59 [==============================] - 0s 5ms/step - loss: 0.1226 - accuracy: 0.9543 - val_loss: 0.4863 - val_accuracy: 0.8841\n",
            "Epoch 54/100\n",
            "59/59 [==============================] - 0s 7ms/step - loss: 0.1325 - accuracy: 0.9503 - val_loss: 0.4888 - val_accuracy: 0.8848\n",
            "Epoch 55/100\n",
            "59/59 [==============================] - 0s 8ms/step - loss: 0.1426 - accuracy: 0.9475 - val_loss: 0.5374 - val_accuracy: 0.8672\n",
            "Epoch 56/100\n",
            "59/59 [==============================] - 0s 7ms/step - loss: 0.1384 - accuracy: 0.9502 - val_loss: 0.4886 - val_accuracy: 0.8789\n",
            "Epoch 57/100\n",
            "59/59 [==============================] - 0s 8ms/step - loss: 0.1342 - accuracy: 0.9510 - val_loss: 0.5034 - val_accuracy: 0.8845\n",
            "Epoch 58/100\n",
            "59/59 [==============================] - 0s 8ms/step - loss: 0.1496 - accuracy: 0.9470 - val_loss: 0.5626 - val_accuracy: 0.8685\n",
            "Epoch 59/100\n",
            "59/59 [==============================] - 0s 6ms/step - loss: 0.1476 - accuracy: 0.9459 - val_loss: 0.5196 - val_accuracy: 0.8698\n",
            "Epoch 60/100\n",
            "59/59 [==============================] - 0s 6ms/step - loss: 0.1210 - accuracy: 0.9553 - val_loss: 0.5144 - val_accuracy: 0.8779\n",
            "Epoch 61/100\n",
            "59/59 [==============================] - 0s 6ms/step - loss: 0.1176 - accuracy: 0.9558 - val_loss: 0.5120 - val_accuracy: 0.8822\n",
            "Epoch 62/100\n",
            "59/59 [==============================] - 0s 6ms/step - loss: 0.1244 - accuracy: 0.9544 - val_loss: 0.5107 - val_accuracy: 0.8793\n",
            "Epoch 63/100\n",
            "59/59 [==============================] - 0s 5ms/step - loss: 0.1166 - accuracy: 0.9568 - val_loss: 0.5236 - val_accuracy: 0.8763\n",
            "Epoch 64/100\n",
            "59/59 [==============================] - 0s 6ms/step - loss: 0.1362 - accuracy: 0.9507 - val_loss: 0.5181 - val_accuracy: 0.8835\n",
            "Epoch 65/100\n",
            "59/59 [==============================] - 0s 6ms/step - loss: 0.1136 - accuracy: 0.9570 - val_loss: 0.5389 - val_accuracy: 0.8794\n",
            "Epoch 66/100\n",
            "59/59 [==============================] - 0s 6ms/step - loss: 0.1213 - accuracy: 0.9558 - val_loss: 0.5164 - val_accuracy: 0.8843\n",
            "Epoch 67/100\n",
            "59/59 [==============================] - 0s 6ms/step - loss: 0.1302 - accuracy: 0.9529 - val_loss: 0.5365 - val_accuracy: 0.8785\n",
            "Epoch 68/100\n",
            "59/59 [==============================] - 0s 6ms/step - loss: 0.1212 - accuracy: 0.9556 - val_loss: 0.5492 - val_accuracy: 0.8801\n",
            "Epoch 69/100\n",
            "59/59 [==============================] - 0s 6ms/step - loss: 0.1197 - accuracy: 0.9554 - val_loss: 0.5583 - val_accuracy: 0.8861\n",
            "Epoch 70/100\n",
            "59/59 [==============================] - 0s 5ms/step - loss: 0.1352 - accuracy: 0.9511 - val_loss: 0.5466 - val_accuracy: 0.8742\n",
            "Epoch 71/100\n",
            "59/59 [==============================] - 0s 6ms/step - loss: 0.1575 - accuracy: 0.9437 - val_loss: 0.5366 - val_accuracy: 0.8738\n",
            "Epoch 72/100\n",
            "59/59 [==============================] - 0s 5ms/step - loss: 0.1328 - accuracy: 0.9525 - val_loss: 0.5102 - val_accuracy: 0.8802\n",
            "Epoch 73/100\n",
            "59/59 [==============================] - 0s 6ms/step - loss: 0.1199 - accuracy: 0.9563 - val_loss: 0.5287 - val_accuracy: 0.8822\n",
            "Epoch 74/100\n",
            "59/59 [==============================] - 0s 5ms/step - loss: 0.1365 - accuracy: 0.9508 - val_loss: 0.6012 - val_accuracy: 0.8617\n",
            "Epoch 75/100\n",
            "59/59 [==============================] - 0s 5ms/step - loss: 0.1578 - accuracy: 0.9430 - val_loss: 0.5545 - val_accuracy: 0.8798\n",
            "Epoch 76/100\n",
            "59/59 [==============================] - 0s 5ms/step - loss: 0.1176 - accuracy: 0.9575 - val_loss: 0.5289 - val_accuracy: 0.8812\n",
            "Epoch 77/100\n",
            "59/59 [==============================] - 0s 6ms/step - loss: 0.1152 - accuracy: 0.9581 - val_loss: 0.5023 - val_accuracy: 0.8889\n",
            "Epoch 78/100\n",
            "59/59 [==============================] - 0s 5ms/step - loss: 0.1049 - accuracy: 0.9612 - val_loss: 0.5791 - val_accuracy: 0.8833\n",
            "Epoch 79/100\n",
            "59/59 [==============================] - 0s 5ms/step - loss: 0.1251 - accuracy: 0.9542 - val_loss: 0.5403 - val_accuracy: 0.8887\n",
            "Epoch 80/100\n",
            "59/59 [==============================] - 0s 5ms/step - loss: 0.1072 - accuracy: 0.9604 - val_loss: 0.5251 - val_accuracy: 0.8842\n",
            "Epoch 81/100\n",
            "59/59 [==============================] - 0s 5ms/step - loss: 0.1075 - accuracy: 0.9601 - val_loss: 0.5455 - val_accuracy: 0.8849\n",
            "Epoch 82/100\n",
            "59/59 [==============================] - 0s 6ms/step - loss: 0.1097 - accuracy: 0.9604 - val_loss: 0.5872 - val_accuracy: 0.8752\n",
            "Epoch 83/100\n",
            "59/59 [==============================] - 0s 5ms/step - loss: 0.1139 - accuracy: 0.9585 - val_loss: 0.5502 - val_accuracy: 0.8804\n",
            "Epoch 84/100\n",
            "59/59 [==============================] - 0s 5ms/step - loss: 0.1124 - accuracy: 0.9595 - val_loss: 0.5426 - val_accuracy: 0.8845\n",
            "Epoch 85/100\n",
            "59/59 [==============================] - 0s 6ms/step - loss: 0.0938 - accuracy: 0.9656 - val_loss: 0.5670 - val_accuracy: 0.8861\n",
            "Epoch 86/100\n",
            "59/59 [==============================] - 0s 5ms/step - loss: 0.0925 - accuracy: 0.9658 - val_loss: 0.5680 - val_accuracy: 0.8854\n",
            "Epoch 87/100\n",
            "59/59 [==============================] - 0s 5ms/step - loss: 0.0908 - accuracy: 0.9675 - val_loss: 0.5772 - val_accuracy: 0.8797\n",
            "Epoch 88/100\n",
            "59/59 [==============================] - 0s 6ms/step - loss: 0.1317 - accuracy: 0.9541 - val_loss: 0.6133 - val_accuracy: 0.8710\n",
            "Epoch 89/100\n",
            "59/59 [==============================] - 0s 7ms/step - loss: 0.1401 - accuracy: 0.9506 - val_loss: 0.6084 - val_accuracy: 0.8781\n",
            "Epoch 90/100\n",
            "59/59 [==============================] - 0s 7ms/step - loss: 0.1180 - accuracy: 0.9571 - val_loss: 0.5647 - val_accuracy: 0.8830\n",
            "Epoch 91/100\n",
            "59/59 [==============================] - 0s 7ms/step - loss: 0.1124 - accuracy: 0.9598 - val_loss: 0.5832 - val_accuracy: 0.8820\n",
            "Epoch 92/100\n",
            "59/59 [==============================] - 0s 6ms/step - loss: 0.1261 - accuracy: 0.9560 - val_loss: 0.6221 - val_accuracy: 0.8722\n",
            "Epoch 93/100\n",
            "59/59 [==============================] - 0s 8ms/step - loss: 0.1301 - accuracy: 0.9548 - val_loss: 0.5773 - val_accuracy: 0.8826\n",
            "Epoch 94/100\n",
            "59/59 [==============================] - 0s 6ms/step - loss: 0.1099 - accuracy: 0.9609 - val_loss: 0.5486 - val_accuracy: 0.8871\n",
            "Epoch 95/100\n",
            "59/59 [==============================] - 0s 6ms/step - loss: 0.1265 - accuracy: 0.9552 - val_loss: 0.5550 - val_accuracy: 0.8821\n",
            "Epoch 96/100\n",
            "59/59 [==============================] - 0s 6ms/step - loss: 0.0874 - accuracy: 0.9665 - val_loss: 0.5754 - val_accuracy: 0.8865\n",
            "Epoch 97/100\n",
            "59/59 [==============================] - 0s 6ms/step - loss: 0.0926 - accuracy: 0.9657 - val_loss: 0.5737 - val_accuracy: 0.8866\n",
            "Epoch 98/100\n",
            "59/59 [==============================] - 0s 6ms/step - loss: 0.0923 - accuracy: 0.9660 - val_loss: 0.5758 - val_accuracy: 0.8874\n",
            "Epoch 99/100\n",
            "59/59 [==============================] - 0s 5ms/step - loss: 0.0987 - accuracy: 0.9643 - val_loss: 0.6317 - val_accuracy: 0.8809\n",
            "Epoch 100/100\n",
            "59/59 [==============================] - 0s 5ms/step - loss: 0.1160 - accuracy: 0.9582 - val_loss: 0.5687 - val_accuracy: 0.8845\n"
          ]
        }
      ]
    },
    {
      "cell_type": "code",
      "source": [],
      "metadata": {
        "id": "M47wVpC34u8K"
      },
      "execution_count": null,
      "outputs": []
    }
  ]
}